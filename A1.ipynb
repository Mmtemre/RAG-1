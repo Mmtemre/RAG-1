{
 "cells": [
  {
   "cell_type": "code",
   "execution_count": 14,
   "id": "7f9e6bd4-b7da-4414-b52f-2ceedc50f813",
   "metadata": {},
   "outputs": [],
   "source": [
    "from sentence_transformers import SentenceTransformer\n",
    "from transformers import pipeline\n",
    "from transformers import pipeline, AutoTokenizer, AutoModelForCausalLM\n",
    "import torch\n",
    "import faiss\n",
    "import numpy as np"
   ]
  },
  {
   "cell_type": "code",
   "execution_count": 16,
   "id": "7cddb146-5104-4614-8f35-60fc3a6a9e01",
   "metadata": {},
   "outputs": [],
   "source": [
    "docs = [\n",
    "    \"\"\"Mustafa Kemal Atatürk was born in Thessaloniki in 1881 and became the founder of the Republic of Turkey.\n",
    "    In 1923, he declared the Republic and laid the foundations of modern Turkey.\"\"\",\n",
    "\n",
    "    \"\"\"Ankara is the capital of Turkey and is located in the Central Anatolia Region. It was declared the capital on October 13, 1923.\"\"\",\n",
    "\n",
    "    \"\"\"The Python programming language is an open-source, high-level and object-oriented language.\n",
    "    It is widely used in areas such as machine learning and data science.\"\"\"\n",
    "\n",
    "\n",
    "]\n"
   ]
  },
  {
   "cell_type": "code",
   "execution_count": 17,
   "id": "ff0def27-d005-44d0-a8ce-3d342b46d436",
   "metadata": {},
   "outputs": [],
   "source": [
    "model = SentenceTransformer(\"all-MiniLM-L6-v2\")\n",
    "embeddings = model.encode(docs, convert_to_numpy=True)\n"
   ]
  },
  {
   "cell_type": "code",
   "execution_count": 18,
   "id": "dc74b3ad-4797-4296-86ea-27de8aad4c8d",
   "metadata": {},
   "outputs": [],
   "source": [
    "dimension = embeddings.shape[1]\n",
    "index = faiss.IndexFlatL2(dimension)\n",
    "index.add(embeddings)\n",
    "question_embedding = model.encode([question], convert_to_numpy=True)\n",
    "D, I = index.search(question_embedding, k=1)\n",
    "relevant_doc = docs[I[0][0]]\n"
   ]
  },
  {
   "cell_type": "code",
   "execution_count": 19,
   "id": "f2facf97-dab5-4bb8-aa84-61eb14a7d402",
   "metadata": {},
   "outputs": [
    {
     "name": "stdout",
     "output_type": "stream",
     "text": [
      "En alakalı bilgi: Mustafa Kemal Atatürk was born in Thessaloniki in 1881 and became the founder of the Republic of Turkey.\n",
      "    In 1923, he declared the Republic and laid the foundations of modern Turkey.\n"
     ]
    }
   ],
   "source": [
    "question = \"Who is the founder of the Republic of Turkey??\"\n",
    "question_embedding = model.encode([question], convert_to_numpy=True)\n",
    "\n",
    "D, I = index.search(question_embedding, k=1)\n",
    "relevant_doc = docs[I[0][0]]\n",
    "print(\"En alakalı bilgi:\", relevant_doc)\n"
   ]
  },
  {
   "cell_type": "code",
   "execution_count": 22,
   "id": "9bd44198-96be-4b06-ac23-1b3cb07f9216",
   "metadata": {},
   "outputs": [
    {
     "name": "stderr",
     "output_type": "stream",
     "text": [
      "C:\\Users\\mehmetemre\\.conda\\envs\\rag-gpu\\lib\\site-packages\\accelerate\\utils\\modeling.py:1569: UserWarning: Current model requires 2112 bytes of buffer for offloaded layers, which seems does not fit any GPU's remaining memory. If you are experiencing a OOM later, please consider using offload_buffers=True.\n",
      "  warnings.warn(\n",
      "Loading checkpoint shards: 100%|██████████| 2/2 [00:00<00:00,  3.65it/s]\n",
      "Some parameters are on the meta device because they were offloaded to the cpu and disk.\n"
     ]
    }
   ],
   "source": [
    "\n",
    "\n",
    "model_name = \"tiiuae/falcon-7b-instruct\"\n",
    "tokenizer = AutoTokenizer.from_pretrained(model_name)\n",
    "tokenizer.pad_token = tokenizer.eos_token\n",
    "\n",
    "model = AutoModelForCausalLM.from_pretrained(\n",
    "    model_name,\n",
    "    device_map=\"auto\",\n",
    "    torch_dtype=\"auto\"\n",
    ")\n",
    "tokenizer.pad_token = tokenizer.pad_token or tokenizer.eos_token\n"
   ]
  },
  {
   "cell_type": "code",
   "execution_count": 23,
   "id": "9bb89341-161e-4ba4-836f-baabd021fcbc",
   "metadata": {
    "scrolled": true
   },
   "outputs": [
    {
     "name": "stderr",
     "output_type": "stream",
     "text": [
      "Setting `pad_token_id` to `eos_token_id`:11 for open-end generation.\n"
     ]
    },
    {
     "name": "stdout",
     "output_type": "stream",
     "text": [
      "\n",
      "Soru: Who is the founder of the Republic of Turkey??\n",
      "Bilgi: Mustafa Kemal Atatürk was born in Thessaloniki in 1881 and became the founder of the Republic of Turkey.\n",
      "    In 1923, he declared the Republic and laid the foundations of modern Turkey.\n",
      "Cevap:\n",
      "Mustafa Kemal Atatürk was born in Thessaloniki in 1881 and became the founder of the Republic of Turkey.\n"
     ]
    }
   ],
   "source": [
    "# Soru + bilgiyle prompt hazırlanıyor\n",
    "prompt = f\"\"\"\n",
    "Soru: {question}\n",
    "Bilgi: {relevant_doc}\n",
    "Cevap:\n",
    "\"\"\"\n",
    "\n",
    "inputs = tokenizer(prompt, return_tensors=\"pt\").to(\"cuda\")  # GPU'ya gönder\n",
    "outputs = model.generate(**inputs, max_new_tokens=100)\n",
    "response = tokenizer.decode(outputs[0], skip_special_tokens=True)\n",
    "\n",
    "print(response)"
   ]
  },
  {
   "cell_type": "code",
   "execution_count": null,
   "id": "bd70a62f-65bd-4119-a148-604132079420",
   "metadata": {},
   "outputs": [],
   "source": []
  },
  {
   "cell_type": "code",
   "execution_count": null,
   "id": "0892eac4-de0f-4e60-9207-665c4a24d142",
   "metadata": {},
   "outputs": [],
   "source": []
  }
 ],
 "metadata": {
  "kernelspec": {
   "display_name": "Python 3 (ipykernel)",
   "language": "python",
   "name": "python3"
  },
  "language_info": {
   "codemirror_mode": {
    "name": "ipython",
    "version": 3
   },
   "file_extension": ".py",
   "mimetype": "text/x-python",
   "name": "python",
   "nbconvert_exporter": "python",
   "pygments_lexer": "ipython3",
   "version": "3.10.18"
  }
 },
 "nbformat": 4,
 "nbformat_minor": 5
}
